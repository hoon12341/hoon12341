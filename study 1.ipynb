{
 "cells": [
  {
   "cell_type": "code",
   "execution_count": 1,
   "id": "884e2b03-8296-49ba-9bdf-5faeae0cdeba",
   "metadata": {},
   "outputs": [
    {
     "name": "stdout",
     "output_type": "stream",
     "text": [
      "SJH\n"
     ]
    }
   ],
   "source": [
    "print(\"SJH\")"
   ]
  },
  {
   "cell_type": "code",
   "execution_count": 2,
   "id": "ad898697-cdb4-4439-80f9-ef4564b3c255",
   "metadata": {},
   "outputs": [
    {
     "name": "stdin",
     "output_type": "stream",
     "text": [
      " 1\n"
     ]
    }
   ],
   "source": [
    "a = int(input())"
   ]
  },
  {
   "cell_type": "code",
   "execution_count": 3,
   "id": "f15b54bf-08c6-473c-8b5d-d78237ced161",
   "metadata": {},
   "outputs": [
    {
     "name": "stdin",
     "output_type": "stream",
     "text": [
      " 2\n"
     ]
    }
   ],
   "source": [
    "b = int(input())\n"
   ]
  },
  {
   "cell_type": "code",
   "execution_count": 4,
   "id": "9327bebc-860e-4630-9b77-82d3330d441a",
   "metadata": {},
   "outputs": [
    {
     "data": {
      "text/plain": [
       "3"
      ]
     },
     "execution_count": 4,
     "metadata": {},
     "output_type": "execute_result"
    }
   ],
   "source": [
    "a + b"
   ]
  },
  {
   "cell_type": "code",
   "execution_count": 5,
   "id": "4d7af3c3-8feb-4cde-af24-2b88f91d42d0",
   "metadata": {},
   "outputs": [
    {
     "data": {
      "text/plain": [
       "2"
      ]
     },
     "execution_count": 5,
     "metadata": {},
     "output_type": "execute_result"
    }
   ],
   "source": [
    "a * b"
   ]
  },
  {
   "cell_type": "code",
   "execution_count": 6,
   "id": "524c2b87-1563-4d89-88ac-c47428a88e15",
   "metadata": {},
   "outputs": [
    {
     "name": "stdout",
     "output_type": "stream",
     "text": [
      "안녕하세요\n"
     ]
    }
   ],
   "source": [
    "#그냥 연습용으로 \n",
    "print(\"안녕하세요\")"
   ]
  },
  {
   "cell_type": "code",
   "execution_count": 7,
   "id": "810be3d6-8910-4040-ac22-1a53ca507056",
   "metadata": {},
   "outputs": [
    {
     "name": "stdout",
     "output_type": "stream",
     "text": [
      "#test\n"
     ]
    }
   ],
   "source": [
    "print(\"#test\")\n"
   ]
  },
  {
   "cell_type": "code",
   "execution_count": 8,
   "id": "90ba98c8-2789-475e-94eb-96fe522197fb",
   "metadata": {},
   "outputs": [
    {
     "name": "stdout",
     "output_type": "stream",
     "text": [
      "its ten\n"
     ]
    }
   ],
   "source": [
    "a = 10\n",
    "if a ==10:\n",
    "    print(\"its ten\")"
   ]
  },
  {
   "cell_type": "code",
   "execution_count": 9,
   "id": "f59e4b18-a289-4c2f-b763-500b9b957772",
   "metadata": {},
   "outputs": [
    {
     "data": {
      "text/plain": [
       "7355827511386641"
      ]
     },
     "execution_count": 9,
     "metadata": {},
     "output_type": "execute_result"
    }
   ],
   "source": [
    "21 **12"
   ]
  },
  {
   "cell_type": "code",
   "execution_count": 10,
   "id": "8490c84e-3538-4a31-977d-f96a834fd5bc",
   "metadata": {},
   "outputs": [
    {
     "data": {
      "text/plain": [
       "False"
      ]
     },
     "execution_count": 10,
     "metadata": {},
     "output_type": "execute_result"
    }
   ],
   "source": [
    "0.1 +0.2 == 0.3"
   ]
  },
  {
   "cell_type": "code",
   "execution_count": 11,
   "id": "c71ab40a-554c-4d00-b7fc-01a0a5acb93d",
   "metadata": {},
   "outputs": [
    {
     "data": {
      "text/plain": [
       "0.30000000000000004"
      ]
     },
     "execution_count": 11,
     "metadata": {},
     "output_type": "execute_result"
    }
   ],
   "source": [
    "0.1+0.2"
   ]
  },
  {
   "cell_type": "code",
   "execution_count": 12,
   "id": "4994fa4b-3521-4052-9d32-5d1aafd062b6",
   "metadata": {},
   "outputs": [
    {
     "data": {
      "text/plain": [
       "True"
      ]
     },
     "execution_count": 12,
     "metadata": {},
     "output_type": "execute_result"
    }
   ],
   "source": [
    "#10번의 올바른 사용법\n",
    "import math, sys\n",
    "x = 0.1 +0.2\n",
    "math.fabs(x - 0.3) <=sys.float_info.epsilon"
   ]
  },
  {
   "cell_type": "code",
   "execution_count": 13,
   "id": "f21139b7-569a-4b56-838b-1b38b9b098c2",
   "metadata": {},
   "outputs": [
    {
     "data": {
      "text/plain": [
       "True"
      ]
     },
     "execution_count": 13,
     "metadata": {},
     "output_type": "execute_result"
    }
   ],
   "source": [
    "#추가로 더 쉬운거\n",
    "import math\n",
    "math.isclose(0.1 +0.2, 0.3)"
   ]
  },
  {
   "cell_type": "code",
   "execution_count": 14,
   "id": "c5cb0346-197d-4393-ad46-f4907445d65b",
   "metadata": {},
   "outputs": [
    {
     "data": {
      "text/plain": [
       "2.5"
      ]
     },
     "execution_count": 14,
     "metadata": {},
     "output_type": "execute_result"
    }
   ],
   "source": [
    "10/4"
   ]
  },
  {
   "cell_type": "code",
   "execution_count": 15,
   "id": "52b599dc-5dab-466c-830d-99260ef67cce",
   "metadata": {},
   "outputs": [
    {
     "data": {
      "text/plain": [
       "float"
      ]
     },
     "execution_count": 15,
     "metadata": {},
     "output_type": "execute_result"
    }
   ],
   "source": [
    "type(13.1)"
   ]
  },
  {
   "cell_type": "code",
   "execution_count": 16,
   "id": "c5af8f26-28ad-45f0-b623-045d65b712eb",
   "metadata": {},
   "outputs": [
    {
     "data": {
      "text/plain": [
       "int"
      ]
     },
     "execution_count": 16,
     "metadata": {},
     "output_type": "execute_result"
    }
   ],
   "source": [
    "type(12)"
   ]
  },
  {
   "cell_type": "code",
   "execution_count": 17,
   "id": "9dd2385f-c34a-4d9a-9491-a236453258a4",
   "metadata": {},
   "outputs": [
    {
     "data": {
      "text/plain": [
       "float"
      ]
     },
     "execution_count": 17,
     "metadata": {},
     "output_type": "execute_result"
    }
   ],
   "source": [
    "type(1.00)"
   ]
  },
  {
   "cell_type": "code",
   "execution_count": 18,
   "id": "46fed3c1-7f54-42f7-9f33-2a1744dad326",
   "metadata": {},
   "outputs": [
    {
     "name": "stdin",
     "output_type": "stream",
     "text": [
      " 12 12\n"
     ]
    }
   ],
   "source": [
    "a, b = map(int, input().split())"
   ]
  },
  {
   "cell_type": "code",
   "execution_count": 19,
   "id": "958f0b94-f243-4a64-bd45-ce88c954d238",
   "metadata": {},
   "outputs": [
    {
     "name": "stdin",
     "output_type": "stream",
     "text": [
      " dfsadfsd\n"
     ]
    }
   ],
   "source": [
    "str = input()"
   ]
  },
  {
   "cell_type": "code",
   "execution_count": 20,
   "id": "674c4230-c300-4cb8-a899-ef475f64be74",
   "metadata": {},
   "outputs": [
    {
     "name": "stdout",
     "output_type": "stream",
     "text": [
      "아니 그니까dfsadfsd라고 했잖아\n"
     ]
    }
   ],
   "source": [
    "print(f'아니 그니까{str}라고 했잖아')"
   ]
  },
  {
   "cell_type": "code",
   "execution_count": 21,
   "id": "e5513430-3ee2-46ca-8b52-c4321bf903a4",
   "metadata": {},
   "outputs": [
    {
     "name": "stdin",
     "output_type": "stream",
     "text": [
      "빨리 아무거나 쳐봐 afdsj09ajfds09fs09jd\n"
     ]
    }
   ],
   "source": [
    "a = input('빨리 아무거나 쳐봐')"
   ]
  },
  {
   "cell_type": "code",
   "execution_count": 22,
   "id": "a93139a0-d928-4c41-a51c-e31fac650fd6",
   "metadata": {},
   "outputs": [
    {
     "name": "stdin",
     "output_type": "stream",
     "text": [
      " 1 2 3 4 5\n"
     ]
    }
   ],
   "source": [
    "a = list(map(int, input().split()))"
   ]
  },
  {
   "cell_type": "code",
   "execution_count": 23,
   "id": "7f52e591-f6a0-4135-b180-425277faf78e",
   "metadata": {},
   "outputs": [
    {
     "data": {
      "text/plain": [
       "[1, 2, 3, 4, 5]"
      ]
     },
     "execution_count": 23,
     "metadata": {},
     "output_type": "execute_result"
    }
   ],
   "source": [
    "a"
   ]
  },
  {
   "cell_type": "code",
   "execution_count": 24,
   "id": "c46d4cb0-d05a-49d7-8c10-8e85548bb8ea",
   "metadata": {},
   "outputs": [
    {
     "ename": "AttributeError",
     "evalue": "'list' object has no attribute 'split'",
     "output_type": "error",
     "traceback": [
      "\u001b[1;31m---------------------------------------------------------------------------\u001b[0m",
      "\u001b[1;31mAttributeError\u001b[0m                            Traceback (most recent call last)",
      "Cell \u001b[1;32mIn[24], line 1\u001b[0m\n\u001b[1;32m----> 1\u001b[0m a_list \u001b[38;5;241m=\u001b[39m a\u001b[38;5;241m.\u001b[39msplit()\n",
      "\u001b[1;31mAttributeError\u001b[0m: 'list' object has no attribute 'split'"
     ]
    }
   ],
   "source": [
    "a_list = a.split()"
   ]
  },
  {
   "cell_type": "code",
   "execution_count": 25,
   "id": "5c26bd98-82b4-4769-93ba-ddd5229c5051",
   "metadata": {},
   "outputs": [
    {
     "data": {
      "text/plain": [
       "True"
      ]
     },
     "execution_count": 25,
     "metadata": {},
     "output_type": "execute_result"
    }
   ],
   "source": [
    ">>> my_list = [1, 9, 8, 5, 0, 6]\n",
    ">>> my_str = 'hello world'\n",
    ">>> 5 in my_list"
   ]
  },
  {
   "cell_type": "code",
   "execution_count": 26,
   "id": "19bf3bd3-3fd8-40c7-9ae4-97ead256fce7",
   "metadata": {},
   "outputs": [],
   "source": [
    "a= a[2:4]"
   ]
  },
  {
   "cell_type": "code",
   "execution_count": 27,
   "id": "f5e4a483-61ce-44e9-84b6-e3a4533bee1a",
   "metadata": {},
   "outputs": [
    {
     "data": {
      "text/plain": [
       "[3, 4]"
      ]
     },
     "execution_count": 27,
     "metadata": {},
     "output_type": "execute_result"
    }
   ],
   "source": [
    "a\n"
   ]
  },
  {
   "cell_type": "code",
   "execution_count": 28,
   "id": "aa948324-6951-4cfb-a98e-36e10dd5f819",
   "metadata": {},
   "outputs": [
    {
     "name": "stdout",
     "output_type": "stream",
     "text": [
      "1 2 3 4 5\n"
     ]
    }
   ],
   "source": [
    "print(1,2,3,4,5,)"
   ]
  },
  {
   "cell_type": "code",
   "execution_count": 29,
   "id": "5d078f08-aa2f-4034-88ac-7dbc6b2c0d53",
   "metadata": {},
   "outputs": [
    {
     "name": "stdout",
     "output_type": "stream",
     "text": [
      "1*m*2*m*3*m*4*m*51\n"
     ]
    }
   ],
   "source": [
    "print(1,2,3,4,51, sep='*m*')"
   ]
  },
  {
   "cell_type": "code",
   "execution_count": 30,
   "id": "24b766c7-e4d4-4ae2-8755-645d34ee22b5",
   "metadata": {},
   "outputs": [
    {
     "name": "stdout",
     "output_type": "stream",
     "text": [
      "1\n",
      "2\n",
      "3\n",
      "4\n",
      "5\n"
     ]
    }
   ],
   "source": [
    "print(1,2,3,4,5, sep='\\n')"
   ]
  },
  {
   "cell_type": "code",
   "execution_count": 31,
   "id": "70097836-804f-4da1-93c4-2f4ff022cd6d",
   "metadata": {},
   "outputs": [
    {
     "name": "stdout",
     "output_type": "stream",
     "text": [
      "11 1\n",
      "1\n"
     ]
    }
   ],
   "source": [
    "print(1, end='')\n",
    "print(1, end=' ')\n",
    "print(1)\n",
    "print(1)"
   ]
  },
  {
   "cell_type": "code",
   "execution_count": 32,
   "id": "458d127a-d876-4b37-a7ea-bd75c40c3a72",
   "metadata": {},
   "outputs": [
    {
     "name": "stdin",
     "output_type": "stream",
     "text": [
      " 2005 11 21 12 23 23\n"
     ]
    },
    {
     "name": "stdout",
     "output_type": "stream",
     "text": [
      "2005-11-21T12:23:23\n"
     ]
    }
   ],
   "source": [
    "year, month, day, hour, minute, second = input().split()\n",
    "print(year, month, day, sep='-',end='')\n",
    "print(\"T\",end='')\n",
    "print(hour,minute,second,sep=':')"
   ]
  },
  {
   "cell_type": "code",
   "execution_count": 33,
   "id": "fe1e314b-0b19-40de-83af-6c2dcebcfe70",
   "metadata": {},
   "outputs": [
    {
     "data": {
      "text/plain": [
       "array([[ 30,  36,  42],\n",
       "       [ 66,  81,  96],\n",
       "       [102, 126, 150]])"
      ]
     },
     "execution_count": 33,
     "metadata": {},
     "output_type": "execute_result"
    }
   ],
   "source": [
    "import numpy as np\n",
    "a = np.array([[1,2,3],[4,5,6],[7,8,9]])\n",
    "b= np.array([[1,2,3],[4,5,6],[7,8,9]])\n",
    "a@b"
   ]
  },
  {
   "cell_type": "code",
   "execution_count": 34,
   "id": "e6615bba-e42e-47ca-a488-8a338adba216",
   "metadata": {},
   "outputs": [
    {
     "data": {
      "text/plain": [
       "True"
      ]
     },
     "execution_count": 34,
     "metadata": {},
     "output_type": "execute_result"
    }
   ],
   "source": [
    "3>1"
   ]
  },
  {
   "cell_type": "code",
   "execution_count": 35,
   "id": "ac2995b1-ce69-40fb-8102-4e54b62beb5c",
   "metadata": {},
   "outputs": [
    {
     "data": {
      "text/plain": [
       "True"
      ]
     },
     "execution_count": 35,
     "metadata": {},
     "output_type": "execute_result"
    }
   ],
   "source": [
    "#서로 다른지 판단\n",
    "15 != 12"
   ]
  },
  {
   "cell_type": "code",
   "execution_count": 36,
   "id": "4a488e4c-4c58-40f7-9f69-84c33b6c565e",
   "metadata": {},
   "outputs": [
    {
     "name": "stderr",
     "output_type": "stream",
     "text": [
      "<>:1: SyntaxWarning: \"is not\" with a literal. Did you mean \"!=\"?\n",
      "<>:1: SyntaxWarning: \"is not\" with a literal. Did you mean \"!=\"?\n",
      "C:\\Users\\lenovo\\AppData\\Local\\Temp\\ipykernel_12364\\2095918375.py:1: SyntaxWarning: \"is not\" with a literal. Did you mean \"!=\"?\n",
      "  1 is not 1.0\n"
     ]
    },
    {
     "data": {
      "text/plain": [
       "True"
      ]
     },
     "execution_count": 36,
     "metadata": {},
     "output_type": "execute_result"
    }
   ],
   "source": [
    "1 is not 1.0"
   ]
  },
  {
   "cell_type": "code",
   "execution_count": 37,
   "id": "0b65c1dd-e93e-454a-8a9f-188ba3e962bf",
   "metadata": {},
   "outputs": [
    {
     "data": {
      "text/plain": [
       "True"
      ]
     },
     "execution_count": 37,
     "metadata": {},
     "output_type": "execute_result"
    }
   ],
   "source": [
    "1 ==1.0"
   ]
  },
  {
   "cell_type": "code",
   "execution_count": 38,
   "id": "7e442157-5095-4f98-9d3d-b6afeb370778",
   "metadata": {},
   "outputs": [
    {
     "data": {
      "text/plain": [
       "140716561122088"
      ]
     },
     "execution_count": 38,
     "metadata": {},
     "output_type": "execute_result"
    }
   ],
   "source": [
    "id(1)\n"
   ]
  },
  {
   "cell_type": "code",
   "execution_count": 39,
   "id": "29b20eae-8b6a-44f5-aab3-4e7e546f85b5",
   "metadata": {},
   "outputs": [
    {
     "data": {
      "text/plain": [
       "2117246071728"
      ]
     },
     "execution_count": 39,
     "metadata": {},
     "output_type": "execute_result"
    }
   ],
   "source": [
    "id(1.0)"
   ]
  },
  {
   "cell_type": "code",
   "execution_count": 40,
   "id": "194c2613-631e-4d1a-9723-a0de6b2d01de",
   "metadata": {},
   "outputs": [
    {
     "ename": "SyntaxError",
     "evalue": "invalid syntax (1878134461.py, line 1)",
     "output_type": "error",
     "traceback": [
      "\u001b[1;36m  Cell \u001b[1;32mIn[40], line 1\u001b[1;36m\u001b[0m\n\u001b[1;33m    and or not not\u001b[0m\n\u001b[1;37m    ^\u001b[0m\n\u001b[1;31mSyntaxError\u001b[0m\u001b[1;31m:\u001b[0m invalid syntax\n"
     ]
    }
   ],
   "source": [
    "and or not not"
   ]
  },
  {
   "cell_type": "code",
   "execution_count": 41,
   "id": "28c805ce-a851-4bc2-ad15-bda32ef24a30",
   "metadata": {},
   "outputs": [
    {
     "data": {
      "text/plain": [
       "True"
      ]
     },
     "execution_count": 41,
     "metadata": {},
     "output_type": "execute_result"
    }
   ],
   "source": [
    "#not이란?\n",
    "not True and False or not False\n",
    "\n",
    "False and False or True\n",
    "\n",
    "False or True"
   ]
  },
  {
   "cell_type": "code",
   "execution_count": 43,
   "id": "ea8db3c1-46d0-4cf1-b5fb-b6434c73091c",
   "metadata": {},
   "outputs": [
    {
     "name": "stdin",
     "output_type": "stream",
     "text": [
      " 91 82 86 80\n"
     ]
    },
    {
     "data": {
      "text/plain": [
       "True"
      ]
     },
     "execution_count": 43,
     "metadata": {},
     "output_type": "execute_result"
    }
   ],
   "source": [
    "a, b, c, d =map(int,input().split())\n",
    "a>=90 and b>80 and c > 85 and d >=80"
   ]
  },
  {
   "cell_type": "code",
   "execution_count": 44,
   "id": "0250738a-c58f-451c-947c-4cbfc8312463",
   "metadata": {},
   "outputs": [
    {
     "data": {
      "text/plain": [
       "'epic sax guy'"
      ]
     },
     "execution_count": 44,
     "metadata": {},
     "output_type": "execute_result"
    }
   ],
   "source": [
    "hi = 'epic sax guy'\n",
    "hi"
   ]
  },
  {
   "cell_type": "code",
   "execution_count": 45,
   "id": "d6956c5c-3f7e-43c1-a9d0-caa65cda6d6d",
   "metadata": {},
   "outputs": [
    {
     "name": "stdout",
     "output_type": "stream",
     "text": [
      "epic \n",
      "sax \n",
      "guy\n"
     ]
    }
   ],
   "source": [
    "hi = '''epic \n",
    "sax \n",
    "guy'''\n",
    "print(hi)\n"
   ]
  },
  {
   "cell_type": "code",
   "execution_count": 46,
   "id": "bdebe457-009b-4672-a114-45411af39cb7",
   "metadata": {},
   "outputs": [],
   "source": [
    "#리스트와 튜플\n",
    "a = [1,2,3,4,5,6,\"sadfs\"]#문자도 가능, 변경 가능\n",
    "b = (1,2,3,4,5)#숫자만 가능, 변경불가"
   ]
  },
  {
   "cell_type": "code",
   "execution_count": 47,
   "id": "d562c3a1-e715-4692-92a3-5bc20187a970",
   "metadata": {},
   "outputs": [
    {
     "data": {
      "text/plain": [
       "list"
      ]
     },
     "execution_count": 47,
     "metadata": {},
     "output_type": "execute_result"
    }
   ],
   "source": [
    "type(a)"
   ]
  },
  {
   "cell_type": "code",
   "execution_count": 48,
   "id": "09a1484a-1f2e-4aef-901f-2529020c15f6",
   "metadata": {},
   "outputs": [
    {
     "data": {
      "text/plain": [
       "tuple"
      ]
     },
     "execution_count": 48,
     "metadata": {},
     "output_type": "execute_result"
    }
   ],
   "source": [
    "type(b)"
   ]
  },
  {
   "cell_type": "code",
   "execution_count": 49,
   "id": "9b5db365-a568-4580-80d6-b5a8eb8ae6a1",
   "metadata": {},
   "outputs": [
    {
     "data": {
      "text/plain": [
       "'sadfs'"
      ]
     },
     "execution_count": 49,
     "metadata": {},
     "output_type": "execute_result"
    }
   ],
   "source": [
    "a[6]"
   ]
  },
  {
   "cell_type": "code",
   "execution_count": 50,
   "id": "233db89a-e1e5-4bfb-b24c-cf6e04be3623",
   "metadata": {},
   "outputs": [
    {
     "data": {
      "text/plain": [
       "[-14, -11, -8, -5, -2, 1, 4, 7, 10, 13]"
      ]
     },
     "execution_count": 50,
     "metadata": {},
     "output_type": "execute_result"
    }
   ],
   "source": [
    "list(range(-14, 14, 3))"
   ]
  },
  {
   "cell_type": "code",
   "execution_count": 51,
   "id": "9b25f30a-1e11-4e85-858c-477eaef1c6c8",
   "metadata": {},
   "outputs": [
    {
     "data": {
      "text/plain": [
       "'sadfs'"
      ]
     },
     "execution_count": 51,
     "metadata": {},
     "output_type": "execute_result"
    }
   ],
   "source": [
    "a[len(a)-1]"
   ]
  },
  {
   "cell_type": "code",
   "execution_count": 52,
   "id": "860b4f35-a60e-4dc2-9f58-5b3ebe969120",
   "metadata": {},
   "outputs": [],
   "source": [
    "#list\n",
    "c = [0,0,0,0,0]\n",
    "c[0]=1\n",
    "c[1]=12\n",
    "c[2]=23\n",
    "c[3]=34\n",
    "c[4]=45\n"
   ]
  },
  {
   "cell_type": "code",
   "execution_count": 53,
   "id": "24c1840e-9eea-401b-a5bc-f4b38fb0560a",
   "metadata": {},
   "outputs": [
    {
     "ename": "TypeError",
     "evalue": "'tuple' object does not support item assignment",
     "output_type": "error",
     "traceback": [
      "\u001b[1;31m---------------------------------------------------------------------------\u001b[0m",
      "\u001b[1;31mTypeError\u001b[0m                                 Traceback (most recent call last)",
      "Cell \u001b[1;32mIn[53], line 3\u001b[0m\n\u001b[0;32m      1\u001b[0m \u001b[38;5;66;03m#tuple can't\u001b[39;00m\n\u001b[0;32m      2\u001b[0m a \u001b[38;5;241m=\u001b[39m (\u001b[38;5;241m0\u001b[39m,\u001b[38;5;241m0\u001b[39m,\u001b[38;5;241m0\u001b[39m)\n\u001b[1;32m----> 3\u001b[0m a[\u001b[38;5;241m0\u001b[39m] \u001b[38;5;241m=\u001b[39m \u001b[38;5;241m1\u001b[39m\n",
      "\u001b[1;31mTypeError\u001b[0m: 'tuple' object does not support item assignment"
     ]
    }
   ],
   "source": [
    "#tuple can't\n",
    "a = (0,0,0)\n",
    "a[0] = 1"
   ]
  },
  {
   "cell_type": "code",
   "execution_count": null,
   "id": "aa7976c8-053f-4ea7-a551-9efc5a679b22",
   "metadata": {},
   "outputs": [],
   "source": [
    "del c[0]\n",
    "c"
   ]
  },
  {
   "cell_type": "code",
   "execution_count": 54,
   "id": "ec0b79c5-ba96-4409-aa37-06bde4f8ca39",
   "metadata": {},
   "outputs": [
    {
     "data": {
      "text/plain": [
       "[1, 12, 23]"
      ]
     },
     "execution_count": 54,
     "metadata": {},
     "output_type": "execute_result"
    }
   ],
   "source": [
    "c[0:3]"
   ]
  },
  {
   "cell_type": "code",
   "execution_count": 55,
   "id": "065a1bb5-e918-4d0d-8f25-fb79fe1d26f3",
   "metadata": {},
   "outputs": [
    {
     "data": {
      "text/plain": [
       "[1, 12, 23]"
      ]
     },
     "execution_count": 55,
     "metadata": {},
     "output_type": "execute_result"
    }
   ],
   "source": [
    "c[0:-2]"
   ]
  },
  {
   "cell_type": "code",
   "execution_count": 56,
   "id": "2ad5d130-b2a5-4a1f-b150-bfd76e98f878",
   "metadata": {},
   "outputs": [],
   "source": [
    "a = [0,1,2,3,4,5,6,7,8,9]"
   ]
  },
  {
   "cell_type": "code",
   "execution_count": 57,
   "id": "4c434137-e2d2-43c4-8f5c-67a194812420",
   "metadata": {},
   "outputs": [
    {
     "data": {
      "text/plain": [
       "[0, 2, 4, 6]"
      ]
     },
     "execution_count": 57,
     "metadata": {},
     "output_type": "execute_result"
    }
   ],
   "source": [
    "a[0:8:2]"
   ]
  },
  {
   "cell_type": "code",
   "execution_count": 58,
   "id": "7d81111a-bc46-4af8-9d94-406dfacd8e0e",
   "metadata": {},
   "outputs": [
    {
     "name": "stdout",
     "output_type": "stream",
     "text": [
      "[0, 1, 2, 3]\n",
      "[4, 5, 6, 7, 8, 9]\n",
      "[0, 1, 2, 3, 4, 5, 6, 7, 8, 9]\n",
      "[0, 2, 4, 6, 8]\n"
     ]
    }
   ],
   "source": [
    "print(a[:4])\n",
    "print(a[4:])\n",
    "print(a[:])\n",
    "print(a[::2])"
   ]
  },
  {
   "cell_type": "code",
   "execution_count": 59,
   "id": "d1433c38-1d6b-4eac-95d6-1b7ec1d7ec74",
   "metadata": {},
   "outputs": [
    {
     "data": {
      "text/plain": [
       "[1, 2, 3, 4, 5, 6, 7, 8, 9]"
      ]
     },
     "execution_count": 59,
     "metadata": {},
     "output_type": "execute_result"
    }
   ],
   "source": [
    "a[1:len(a)]"
   ]
  },
  {
   "cell_type": "code",
   "execution_count": 60,
   "id": "5f7f6429-1d2a-4edc-b236-8b2b67979461",
   "metadata": {},
   "outputs": [
    {
     "data": {
      "text/plain": [
       "[0, 12, 23, 34, 3, 4, 5, 6, 7, 8, 9]"
      ]
     },
     "execution_count": 60,
     "metadata": {},
     "output_type": "execute_result"
    }
   ],
   "source": [
    "a[1:3]=[12,23,34]\n",
    "a"
   ]
  },
  {
   "cell_type": "code",
   "execution_count": 61,
   "id": "3a170fb3-fae2-4d50-88b3-81bb1c856f4d",
   "metadata": {},
   "outputs": [
    {
     "name": "stdin",
     "output_type": "stream",
     "text": [
      " 1 2 3 4 5 6 7 8 9 0\n"
     ]
    },
    {
     "data": {
      "text/plain": [
       "('1', '2', '3', '4', '5')"
      ]
     },
     "execution_count": 61,
     "metadata": {},
     "output_type": "execute_result"
    }
   ],
   "source": [
    "#심사문제\n",
    "a = input().split()\n",
    "b = list(a)\n",
    "\n",
    "del b[-5:]\n",
    "tuple(list(b))"
   ]
  },
  {
   "cell_type": "code",
   "execution_count": 62,
   "id": "780680ce-0d5e-446e-a93a-c3951efd6b66",
   "metadata": {},
   "outputs": [
    {
     "name": "stdout",
     "output_type": "stream",
     "text": [
      "{'health': 1, 'mp': 2, 'dis': 3, 'armor': 4}\n",
      "1\n"
     ]
    }
   ],
   "source": [
    "#딕셔너리\n",
    "lux = {'health':1, 'mp': 2, 'dis':3, 'armor':4}\n",
    "print(lux)\n",
    "print(lux['health'])\n"
   ]
  },
  {
   "cell_type": "code",
   "execution_count": 63,
   "id": "3b149a7a-8d4d-46a4-972f-86ab954bc036",
   "metadata": {},
   "outputs": [
    {
     "name": "stdout",
     "output_type": "stream",
     "text": [
      "{'health': 1, 'mp': 2, 'di': 3, 'armor': 4}\n",
      "{'h': 1, 'm': 2, 'd': 3, 'ar': 4}\n",
      "{'h': 1, 'm': 2, 'd': 3, 'a': 4}\n"
     ]
    }
   ],
   "source": [
    "lux1 = dict(health=1, mp= 2, di=3, armor=4)\n",
    "print(lux1)\n",
    "lux2 = dict(zip(['h','m','d','ar'], [1,2,3,4]))\n",
    "print(lux2)\n",
    "lux3 = dict([('h',1), ('m',2),('d',3),('a',4)])\n",
    "print(lux3)"
   ]
  },
  {
   "cell_type": "code",
   "execution_count": 64,
   "id": "32111f7b-26c9-40e9-b76c-5604b4ded3e1",
   "metadata": {},
   "outputs": [
    {
     "data": {
      "text/plain": [
       "{'health': 2000, 'mp': 2, 'dis': 3, 'armor': 4}"
      ]
     },
     "execution_count": 64,
     "metadata": {},
     "output_type": "execute_result"
    }
   ],
   "source": [
    "lux['health'] = 2000\n",
    "lux"
   ]
  },
  {
   "cell_type": "code",
   "execution_count": 65,
   "id": "c1789b28-5823-4c09-9a55-6b1a7b4c56bc",
   "metadata": {},
   "outputs": [
    {
     "name": "stdout",
     "output_type": "stream",
     "text": [
      "True\n",
      "True\n"
     ]
    }
   ],
   "source": [
    "print('mp' in lux)\n",
    "print('mp' in lux)"
   ]
  },
  {
   "cell_type": "code",
   "execution_count": 66,
   "id": "ebea60f8-c889-475f-a97e-88c7557c1ae8",
   "metadata": {},
   "outputs": [
    {
     "data": {
      "text/plain": [
       "4"
      ]
     },
     "execution_count": 66,
     "metadata": {},
     "output_type": "execute_result"
    }
   ],
   "source": [
    "len(lux)"
   ]
  },
  {
   "cell_type": "code",
   "execution_count": 67,
   "id": "68676802-a641-4421-b118-306e9c271524",
   "metadata": {},
   "outputs": [
    {
     "name": "stdin",
     "output_type": "stream",
     "text": [
      " q w e r \n",
      " 1 2 3 4\n"
     ]
    },
    {
     "data": {
      "text/plain": [
       "{'q': '1', 'w': '2', 'e': '3', 'r': '4'}"
      ]
     },
     "execution_count": 67,
     "metadata": {},
     "output_type": "execute_result"
    }
   ],
   "source": [
    "#심사 문제\n",
    "a = input().split()\n",
    "b = input().split()\n",
    "c = dict(zip( a, b))\n",
    "c"
   ]
  },
  {
   "cell_type": "code",
   "execution_count": 68,
   "id": "e371d784-3bef-4245-9035-eafce4a68562",
   "metadata": {},
   "outputs": [
    {
     "name": "stdin",
     "output_type": "stream",
     "text": [
      " 10\n"
     ]
    },
    {
     "name": "stdout",
     "output_type": "stream",
     "text": [
      "12314124\n"
     ]
    }
   ],
   "source": [
    "a = input().split()\n",
    "if a == 10:\n",
    "    print(\"dafsdfadsf\")\n",
    "print(\"12314124\")"
   ]
  },
  {
   "cell_type": "code",
   "execution_count": 69,
   "id": "77b31d52-84da-4dc7-aca4-da27dfaf2918",
   "metadata": {},
   "outputs": [],
   "source": [
    "a = 10\n",
    "if a == 10:\n",
    "    pass"
   ]
  },
  {
   "cell_type": "code",
   "execution_count": 70,
   "id": "a619b8a9-ba8b-407c-b27c-7e3384a2f9d9",
   "metadata": {},
   "outputs": [
    {
     "name": "stdout",
     "output_type": "stream",
     "text": [
      "298000000000000 <class 'int'>\n",
      "50000 <class 'int'>\n",
      "15.79 <class 'float'>\n"
     ]
    }
   ],
   "source": [
    "시가총액 = 298000000000000\n",
    "현재가 = 50000\n",
    "PER = 15.79\n",
    "print(시가총액, type(시가총액))\n",
    "print(현재가, type(현재가))\n",
    "print(PER, type(PER))"
   ]
  },
  {
   "cell_type": "code",
   "execution_count": 71,
   "id": "799c5831-07fa-42db-a7b3-2015bec42cf2",
   "metadata": {},
   "outputs": [
    {
     "name": "stdin",
     "output_type": "stream",
     "text": [
      " 20\n"
     ]
    },
    {
     "name": "stdout",
     "output_type": "stream",
     "text": [
      "dfdf20dfdf\n"
     ]
    }
   ],
   "source": [
    "a = int(input())\n",
    "if a ==10:\n",
    "    print(\"d10d\")\n",
    "if a == 20:\n",
    "    print(\"dfdf20dfdf\")"
   ]
  },
  {
   "cell_type": "code",
   "execution_count": 72,
   "id": "da6a6619-d5c0-4b5d-835c-71eb737ec9de",
   "metadata": {},
   "outputs": [
    {
     "name": "stdin",
     "output_type": "stream",
     "text": [
      " 24000\n",
      " Cash5000\n"
     ]
    },
    {
     "name": "stdout",
     "output_type": "stream",
     "text": [
      "19000\n"
     ]
    }
   ],
   "source": [
    "a= int(input())\n",
    "b = input()\n",
    "if b == \"Cash3000\":\n",
    "    print(a - 3000)\n",
    "else:\n",
    "    print(a - 5000)"
   ]
  },
  {
   "cell_type": "code",
   "execution_count": 73,
   "id": "ca98cbda-facb-49b4-b280-3c1cd6a6d5b6",
   "metadata": {},
   "outputs": [
    {
     "name": "stdout",
     "output_type": "stream",
     "text": [
      "true\n"
     ]
    }
   ],
   "source": [
    "if not '':\n",
    "    print(\"true\")\n",
    "else:\n",
    "    print(\"False\") "
   ]
  },
  {
   "cell_type": "code",
   "execution_count": 74,
   "id": "5efa710a-8aac-4004-a88a-580d10e5d4a2",
   "metadata": {},
   "outputs": [
    {
     "name": "stdin",
     "output_type": "stream",
     "text": [
      " 100 100 80 100\n"
     ]
    },
    {
     "name": "stdout",
     "output_type": "stream",
     "text": [
      "합격\n"
     ]
    }
   ],
   "source": [
    "a, b, c,d=map(int,input().split())\n",
    "if ((a+b+c+d)/4) >=80:\n",
    "    print(\"합격\")\n",
    "else:\n",
    "    print(\"불합격\")"
   ]
  },
  {
   "cell_type": "code",
   "execution_count": 75,
   "id": "bce88bcc-2b35-4865-9427-9bdc68ea9ed4",
   "metadata": {},
   "outputs": [
    {
     "name": "stdin",
     "output_type": "stream",
     "text": [
      " 31\n"
     ]
    },
    {
     "name": "stdout",
     "output_type": "stream",
     "text": [
      "999\n"
     ]
    }
   ],
   "source": [
    "a = int(input())\n",
    "if a == 10:\n",
    "    print(100)\n",
    "elif a == 20:\n",
    "    print(200)\n",
    "else :\n",
    "    print(999)"
   ]
  },
  {
   "cell_type": "code",
   "execution_count": 76,
   "id": "5a9fc310-ca42-4448-b17c-fe5580e2dd37",
   "metadata": {},
   "outputs": [
    {
     "name": "stdin",
     "output_type": "stream",
     "text": [
      " 13\n"
     ]
    },
    {
     "name": "stdout",
     "output_type": "stream",
     "text": [
      "7950\n"
     ]
    }
   ],
   "source": [
    "a = int(input())\n",
    "if 7<=a<=12:\n",
    "    print(\"8350\")\n",
    "elif 13<=a<=18:\n",
    "    print(\"7950\")\n",
    "else:\n",
    "    print(\"7750\")"
   ]
  },
  {
   "cell_type": "code",
   "execution_count": 77,
   "id": "26acc0bf-a894-475e-bbb6-b901bb94870c",
   "metadata": {},
   "outputs": [
    {
     "name": "stdout",
     "output_type": "stream",
     "text": [
      "집가고싶다 1\n",
      "집가고싶다 2\n",
      "집가고싶다 3\n",
      "집가고싶다 4\n",
      "집가고싶다 5\n",
      "집가고싶다 6\n",
      "집가고싶다 7\n",
      "집가고싶다 8\n",
      "집가고싶다 9\n",
      "집가고싶다 10\n"
     ]
    }
   ],
   "source": [
    "i = 1\n",
    "while i<=10:\n",
    "    print(\"집가고싶다\",i)\n",
    "    i+=1"
   ]
  },
  {
   "cell_type": "code",
   "execution_count": 78,
   "id": "286b0215-cde3-4b74-939f-b9906d3518bc",
   "metadata": {},
   "outputs": [
    {
     "ename": "TypeError",
     "evalue": "'type' object is not iterable",
     "output_type": "error",
     "traceback": [
      "\u001b[1;31m---------------------------------------------------------------------------\u001b[0m",
      "\u001b[1;31mTypeError\u001b[0m                                 Traceback (most recent call last)",
      "Cell \u001b[1;32mIn[78], line 1\u001b[0m\n\u001b[1;32m----> 1\u001b[0m \u001b[38;5;28;01mfor\u001b[39;00m i \u001b[38;5;129;01min\u001b[39;00m \u001b[38;5;28mrange\u001b[39m :\n\u001b[0;32m      2\u001b[0m     \u001b[38;5;28mprint\u001b[39m(\u001b[38;5;241m1\u001b[39m)\n",
      "\u001b[1;31mTypeError\u001b[0m: 'type' object is not iterable"
     ]
    }
   ],
   "source": [
    "for i in range :\n",
    "    print(1)"
   ]
  },
  {
   "cell_type": "code",
   "execution_count": 79,
   "id": "6300f356-bff7-4f9a-9b1a-a6c0f3acbe71",
   "metadata": {},
   "outputs": [
    {
     "name": "stdout",
     "output_type": "stream",
     "text": [
      "what the 10\n",
      "what the 8\n",
      "what the 6\n",
      "what the 4\n",
      "what the 2\n",
      "what the 0\n",
      "what the -2\n",
      "what the -4\n",
      "what the -6\n",
      "what the -8\n"
     ]
    }
   ],
   "source": [
    "for i in range(10, -10 ,-2):\n",
    "    print(\"what the\",i)"
   ]
  },
  {
   "cell_type": "code",
   "execution_count": 81,
   "id": "0aa49062-93f6-419e-8d05-bf6c606dbbd6",
   "metadata": {},
   "outputs": [
    {
     "name": "stdin",
     "output_type": "stream",
     "text": [
      "enter the number 11\n"
     ]
    },
    {
     "name": "stdout",
     "output_type": "stream",
     "text": [
      "!!\n",
      "!!\n",
      "!!\n",
      "!!\n",
      "!!\n",
      "!!\n",
      "!!\n",
      "!!\n",
      "!!\n",
      "!!\n",
      "!!\n"
     ]
    }
   ],
   "source": [
    "a = int(input(\"enter the number\"))\n",
    "for i in range(a):\n",
    "    print(\"!!\")"
   ]
  },
  {
   "cell_type": "code",
   "execution_count": 82,
   "id": "6714b034-bb63-4ed1-9055-c24e66708163",
   "metadata": {},
   "outputs": [
    {
     "name": "stdout",
     "output_type": "stream",
     "text": [
      "j,u,n,g,h,u,n,"
     ]
    }
   ],
   "source": [
    "for i  in 'junghun':\n",
    "    print(i,end=',')"
   ]
  },
  {
   "cell_type": "code",
   "execution_count": 83,
   "id": "1f3eb280-7dab-4a74-8d74-157e81f2f5ad",
   "metadata": {},
   "outputs": [
    {
     "name": "stdout",
     "output_type": "stream",
     "text": [
      "n,u,h,g,n,u,j,"
     ]
    }
   ],
   "source": [
    "for i  in reversed('junghun'):\n",
    "    print(i,end=',')"
   ]
  },
  {
   "cell_type": "code",
   "execution_count": 84,
   "id": "6a18cda9-db62-4b3f-9d50-650bad6f6843",
   "metadata": {},
   "outputs": [
    {
     "name": "stdin",
     "output_type": "stream",
     "text": [
      " 12\n"
     ]
    },
    {
     "name": "stdout",
     "output_type": "stream",
     "text": [
      "12 * 1 = 12\n",
      "12 * 2 = 24\n",
      "12 * 3 = 36\n",
      "12 * 4 = 48\n",
      "12 * 5 = 60\n",
      "12 * 6 = 72\n",
      "12 * 7 = 84\n",
      "12 * 8 = 96\n",
      "12 * 9 = 108\n"
     ]
    }
   ],
   "source": [
    "a = int(input())\n",
    "for i in range(1,10):\n",
    "    print(a,'*',i,'=',(a*i))"
   ]
  },
  {
   "cell_type": "code",
   "execution_count": null,
   "id": "5ab7b14b-ec51-43d8-9f9e-ed3c76697aa6",
   "metadata": {},
   "outputs": [],
   "source": [
    "a = int(input())\n",
    "i = int(1)\n",
    "while True:\n",
    "    if a <= 0:\n",
    "        pass\n",
    "    else:\n",
    "        print(a-i*1350)\n",
    "    i +=1"
   ]
  },
  {
   "cell_type": "code",
   "execution_count": null,
   "id": "d41f2196-3e34-4ef6-9ad0-cf85c74db229",
   "metadata": {},
   "outputs": [],
   "source": [
    "a = 10\n",
    "print(a *12)"
   ]
  },
  {
   "cell_type": "code",
   "execution_count": null,
   "id": "197d939e-7d11-48da-af10-f4a436f5d56c",
   "metadata": {},
   "outputs": [],
   "source": [
    "a = int(input())\n",
    "i = int(1)\n",
    "while True:\n",
    "    if a <= 0:\n",
    "        pass\n",
    "    else:\n",
    "        print(a-i*1350)\n",
    "    i +=1"
   ]
  },
  {
   "cell_type": "code",
   "execution_count": null,
   "id": "450ea2dc-e1b3-46e3-8a57-4f5e238df330",
   "metadata": {},
   "outputs": [],
   "source": [
    "import random\n",
    "print(random.random())\n",
    "print(random.randint(0,100))"
   ]
  },
  {
   "cell_type": "code",
   "execution_count": null,
   "id": "8eb8c2a9-a6b3-4c4e-80ce-a63afdc18770",
   "metadata": {},
   "outputs": [],
   "source": [
    "i = 0\n",
    "#무한반복문\n",
    "while True:\n",
    "    print(i)\n",
    "    i +=1\n",
    "    if i == 5:\n",
    "        break"
   ]
  },
  {
   "cell_type": "code",
   "execution_count": null,
   "id": "a720a33e-3ec5-4a73-96ea-5602f06bea19",
   "metadata": {},
   "outputs": [],
   "source": [
    "i = 0\n",
    "for i in range(30):\n",
    "    if i % 2==0:\n",
    "        continue\n",
    "    if i % 3 == 0:\n",
    "        continue\n",
    "    print(i)"
   ]
  },
  {
   "cell_type": "code",
   "execution_count": null,
   "id": "bb721f0a-06e5-46f3-87a8-5e22c3858249",
   "metadata": {},
   "outputs": [],
   "source": [
    "i = 0\n",
    "while True:\n",
    "    if i%10 !=3:\n",
    "        i+=1\n",
    "        continue\n",
    "    if i ==73:\n",
    "        break\n",
    "    print(i, end=' ')\n",
    "    i+=1"
   ]
  },
  {
   "cell_type": "code",
   "execution_count": null,
   "id": "38f5998a-f3d3-4c47-9344-5839524f2e06",
   "metadata": {},
   "outputs": [],
   "source": [
    "a ,b =map(int, input().split())\n",
    "i = a\n",
    "while True:\n",
    "    if i%3 !=3:\n",
    "        continue\n",
    "    if i > b:\n",
    "        break\n",
    "    print(i, end=' ')\n",
    "    i+=1"
   ]
  },
  {
   "cell_type": "code",
   "execution_count": null,
   "id": "56292789-67f4-42c4-bbf1-2a32adba7f7f",
   "metadata": {},
   "outputs": [],
   "source": [
    "1+"
   ]
  }
 ],
 "metadata": {
  "kernelspec": {
   "display_name": "Python 3 (ipykernel)",
   "language": "python",
   "name": "python3"
  },
  "language_info": {
   "codemirror_mode": {
    "name": "ipython",
    "version": 3
   },
   "file_extension": ".py",
   "mimetype": "text/x-python",
   "name": "python",
   "nbconvert_exporter": "python",
   "pygments_lexer": "ipython3",
   "version": "3.11.7"
  }
 },
 "nbformat": 4,
 "nbformat_minor": 5
}
