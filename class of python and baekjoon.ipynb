{
 "cells": [
  {
   "cell_type": "code",
   "execution_count": 12,
   "id": "cbb6230c-90b3-444b-80cc-270e32b8f66d",
   "metadata": {},
   "outputs": [
    {
     "name": "stdin",
     "output_type": "stream",
     "text": [
      " \n"
     ]
    },
    {
     "ename": "IndexError",
     "evalue": "list index out of range",
     "output_type": "error",
     "traceback": [
      "\u001b[1;31m---------------------------------------------------------------------------\u001b[0m",
      "\u001b[1;31mIndexError\u001b[0m                                Traceback (most recent call last)",
      "Cell \u001b[1;32mIn[12], line 6\u001b[0m\n\u001b[0;32m      4\u001b[0m a \u001b[38;5;241m=\u001b[39m \u001b[38;5;28mlist\u001b[39m(a)\n\u001b[0;32m      5\u001b[0m \u001b[38;5;28;01mfor\u001b[39;00m r \u001b[38;5;129;01min\u001b[39;00m \u001b[38;5;28mrange\u001b[39m(\u001b[38;5;241m0\u001b[39m,\u001b[38;5;241m8\u001b[39m,\u001b[38;5;241m2\u001b[39m):\n\u001b[1;32m----> 6\u001b[0m     \u001b[38;5;28;01mif\u001b[39;00m a[r]\u001b[38;5;241m==\u001b[39m\u001b[38;5;124m'\u001b[39m\u001b[38;5;124mF\u001b[39m\u001b[38;5;124m'\u001b[39m:\n\u001b[0;32m      7\u001b[0m         count \u001b[38;5;241m+\u001b[39m\u001b[38;5;241m=\u001b[39m\u001b[38;5;241m1\u001b[39m\n\u001b[0;32m      8\u001b[0m     \u001b[38;5;28;01melse\u001b[39;00m:\n",
      "\u001b[1;31mIndexError\u001b[0m: list index out of range"
     ]
    }
   ],
   "source": [
    "while True:\n",
    "    a=[]\n",
    "    if a == 0 and b==0 and c==0:\n",
    "        break\n",
    "    \n",
    "\n"
   ]
  },
  {
   "cell_type": "code",
   "execution_count": 13,
   "id": "5e1c1d42-73a6-4694-8f48-07562e751faa",
   "metadata": {},
   "outputs": [
    {
     "name": "stdout",
     "output_type": "stream",
     "text": [
      "0\n",
      "2\n",
      "4\n",
      "6\n"
     ]
    }
   ],
   "source": [
    "for i in range(0,8,2):\n",
    "    print(i)"
   ]
  },
  {
   "cell_type": "code",
   "execution_count": 15,
   "id": "f30cb894-b2ac-4b5e-a450-d372a61c65bc",
   "metadata": {},
   "outputs": [
    {
     "name": "stdin",
     "output_type": "stream",
     "text": [
      " .F.F.F.F\n"
     ]
    },
    {
     "name": "stdout",
     "output_type": "stream",
     "text": [
      ".\n",
      ".\n",
      ".\n",
      ".\n"
     ]
    },
    {
     "name": "stdin",
     "output_type": "stream",
     "text": [
      " ..FF..F.\n"
     ]
    },
    {
     "name": "stdout",
     "output_type": "stream",
     "text": [
      "['.', '.', 'F', 'F', '.', '.', 'F', '.']\n",
      ".\n",
      "F\n",
      ".\n",
      ".\n",
      "1\n"
     ]
    }
   ],
   "source": [
    "count = 0\n",
    "for i in range(1):\n",
    "    a = input()\n",
    "    a = list(a)\n",
    "    for r in range(0,8,2):\n",
    "        print(a[r])\n",
    "        if a[r]=='F':\n",
    "            count +=1\n",
    "        else:\n",
    "            count+=0\n",
    "    b = input()\n",
    "    b = list(b)\n",
    "    print(b)\n",
    "    for j in range(1,8,2):\n",
    "        print(b[j])\n",
    "        if b[j]=='F':\n",
    "            count +=1\n",
    "        else:\n",
    "            count+=0\n",
    "print(count)"
   ]
  },
  {
   "cell_type": "code",
   "execution_count": 5,
   "id": "020be9e6-8d40-4ed4-81f3-4413ea0f3db2",
   "metadata": {},
   "outputs": [
    {
     "name": "stdout",
     "output_type": "stream",
     "text": [
      "['book']\n",
      "['key']\n",
      "[]\n"
     ]
    }
   ],
   "source": [
    "class Person:\n",
    "    bag = []\n",
    "    def __init__(s\n",
    "                elf):\n",
    "        self.bag = []\n",
    "    def put_bag(self, stuff):\n",
    "        self.bag.append(stuff)\n",
    "\n",
    "james = Person()\n",
    "james.put_bag('book')\n",
    "maria = Person()\n",
    "maria.put_bag('key')\n",
    "\n",
    "print(james.bag)\n",
    "print(maria.bag)\n",
    "print(Person.bag)"
   ]
  },
  {
   "cell_type": "code",
   "execution_count": 31,
   "id": "3beafb32-48ce-42e2-8a3c-1919a32094cc",
   "metadata": {},
   "outputs": [
    {
     "name": "stdout",
     "output_type": "stream",
     "text": [
      "만든 캐릭터 수: 1\n",
      "name = udyr1, health = 100, level = 18\n",
      "만든 캐릭터 수: 2\n",
      "name = udyr2, health = 120, level = 10\n"
     ]
    }
   ],
   "source": [
    " class Udyr:\n",
    "    __count = 0\n",
    "\n",
    "    def __init__(self, name, health, level):\n",
    "        self.name = name\n",
    "        self.health = health\n",
    "        self.level = level\n",
    "        Udyr.__count += 1\n",
    "        print(f'만든 캐릭터 수: {Udyr.__count}')\n",
    "        \n",
    "    def print_myself(self):\n",
    "        print(f'name = {self.name}, health = {self.health}, level = {self.level}')\n",
    "\n",
    "# 캐릭터 생성 예제\n",
    "udyr1 = Udyr('udyr1', 100, 18)\n",
    "udyr1.print_myself()\n",
    "udyr2 = Udyr('udyr2', 120, 10)\n",
    "udyr2.print_myself()\n",
    "\n"
   ]
  },
  {
   "cell_type": "code",
   "execution_count": 1,
   "id": "82db54c7-ea12-4dc9-8ade-d24134234d3e",
   "metadata": {},
   "outputs": [
    {
     "name": "stdin",
     "output_type": "stream",
     "text": [
      " 5\n"
     ]
    },
    {
     "ename": "TypeError",
     "evalue": "countdown.<locals>.count() missing 1 required positional argument: 'n'",
     "output_type": "error",
     "traceback": [
      "\u001b[1;31m---------------------------------------------------------------------------\u001b[0m",
      "\u001b[1;31mTypeError\u001b[0m                                 Traceback (most recent call last)",
      "Cell \u001b[1;32mIn[1], line 14\u001b[0m\n\u001b[0;32m     12\u001b[0m c \u001b[38;5;241m=\u001b[39m countdown(n)\n\u001b[0;32m     13\u001b[0m \u001b[38;5;28;01mfor\u001b[39;00m i \u001b[38;5;129;01min\u001b[39;00m \u001b[38;5;28mrange\u001b[39m(n):\n\u001b[1;32m---> 14\u001b[0m     \u001b[38;5;28mprint\u001b[39m(c(), end\u001b[38;5;241m=\u001b[39m\u001b[38;5;124m'\u001b[39m\u001b[38;5;124m \u001b[39m\u001b[38;5;124m'\u001b[39m)\n",
      "\u001b[1;31mTypeError\u001b[0m: countdown.<locals>.count() missing 1 required positional argument: 'n'"
     ]
    }
   ],
   "source": [
    "def countdown(n):\n",
    "    i = n\n",
    "    def count(n):\n",
    "        while i == 0:    \n",
    "            print(i)\n",
    "            i-=1\n",
    "        return i\n",
    "    return count\n",
    "\n",
    "n = int(input())\n",
    " \n",
    "c = countdown(n)\n",
    "for i in range(n):\n",
    "    print(c(), end=' ')"
   ]
  },
  {
   "cell_type": "code",
   "execution_count": 15,
   "id": "61ff6e00-20a3-4354-8bfe-e50e21a108fb",
   "metadata": {},
   "outputs": [
    {
     "name": "stdin",
     "output_type": "stream",
     "text": [
      " ASDF\n"
     ]
    },
    {
     "name": "stdout",
     "output_type": "stream",
     "text": [
      "asdf"
     ]
    }
   ],
   "source": [
    "n = input()\n",
    "for i in n:\n",
    "    if i.isupper() == True:\n",
    "        print(i.lower(), end=\"\")\n",
    "    else:\n",
    "        \n",
    "        print(i.upper(), end=\"\")\n",
    "        "
   ]
  },
  {
   "cell_type": "code",
   "execution_count": 2,
   "id": "fc1e9e1a-2b81-4086-b70d-d37b9c70ef3d",
   "metadata": {},
   "outputs": [
    {
     "name": "stdout",
     "output_type": "stream",
     "text": [
      "5.656854249492381\n"
     ]
    }
   ],
   "source": [
    "import math\n",
    "\n",
    "class Point2D:\n",
    "    def __init__(self,x,y):\n",
    "        self.x=x\n",
    "        self.y=y\n",
    "\n",
    "\n",
    "p1= Point2D(x=1,y=2)\n",
    "p2= Point2D(x=5,y=6)\n",
    "\n",
    "a=p2.x-p1.x\n",
    "b=p2.y-p1.y\n",
    "\n",
    "\n",
    "c = math.sqrt((a*a) + (b*b))\n",
    "print(c)"
   ]
  },
  {
   "cell_type": "code",
   "execution_count": 29,
   "id": "3eb178fc-2f19-4d40-b85c-6391b43aab14",
   "metadata": {},
   "outputs": [
    {
     "name": "stdin",
     "output_type": "stream",
     "text": [
      " 5\n",
      " OXOXOXOXOXOXOX\n"
     ]
    },
    {
     "name": "stdout",
     "output_type": "stream",
     "text": [
      "7\n"
     ]
    },
    {
     "name": "stdin",
     "output_type": "stream",
     "text": [
      " OOOOXOOOOXOOOOX\n"
     ]
    },
    {
     "name": "stdout",
     "output_type": "stream",
     "text": [
      "30\n"
     ]
    },
    {
     "name": "stdin",
     "output_type": "stream",
     "text": [
      " OOOOOOOOOO\n"
     ]
    },
    {
     "name": "stdout",
     "output_type": "stream",
     "text": [
      "55\n"
     ]
    },
    {
     "name": "stdin",
     "output_type": "stream",
     "text": [
      " OOXXOOXXOO\n"
     ]
    },
    {
     "name": "stdout",
     "output_type": "stream",
     "text": [
      "9\n"
     ]
    },
    {
     "name": "stdin",
     "output_type": "stream",
     "text": [
      " OOXXOOXXOO\n"
     ]
    },
    {
     "name": "stdout",
     "output_type": "stream",
     "text": [
      "9\n"
     ]
    }
   ],
   "source": [
    "def score(a):\n",
    "    return a*(a+1)/2\n",
    "m = 0\n",
    "n = int(input())\n",
    "for i in range(n):\n",
    "    a = input().split('X')\n",
    "    for j in a:\n",
    "        m += score(len(j))\n",
    "    print(int(m))\n",
    "    m = 0"
   ]
  },
  {
   "cell_type": "code",
   "execution_count": 26,
   "id": "f75d22bb-1524-4bc6-8b1c-8b6a0539ba4b",
   "metadata": {},
   "outputs": [
    {
     "name": "stdin",
     "output_type": "stream",
     "text": [
      " OXXOXOXOOOO\n"
     ]
    },
    {
     "name": "stdout",
     "output_type": "stream",
     "text": [
      "1\n",
      "0\n",
      "1\n",
      "1\n",
      "4\n"
     ]
    }
   ],
   "source": [
    "a = input().split('X')\n",
    "for i in a:\n",
    "    print(len(i))"
   ]
  },
  {
   "cell_type": "code",
   "execution_count": null,
   "id": "c286214a-cd39-4626-87ec-833ec2cfa239",
   "metadata": {},
   "outputs": [],
   "source": []
  }
 ],
 "metadata": {
  "kernelspec": {
   "display_name": "Python 3 (ipykernel)",
   "language": "python",
   "name": "python3"
  },
  "language_info": {
   "codemirror_mode": {
    "name": "ipython",
    "version": 3
   },
   "file_extension": ".py",
   "mimetype": "text/x-python",
   "name": "python",
   "nbconvert_exporter": "python",
   "pygments_lexer": "ipython3",
   "version": "3.11.7"
  }
 },
 "nbformat": 4,
 "nbformat_minor": 5
}
