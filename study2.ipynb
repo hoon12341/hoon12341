{
 "cells": [
  {
   "cell_type": "code",
   "execution_count": 1,
   "id": "965929a1-78db-43c7-a208-d66e103d108d",
   "metadata": {},
   "outputs": [],
   "source": [
    "#2"
   ]
  },
  {
   "cell_type": "code",
   "execution_count": 6,
   "id": "e97ceef0-e58a-45e2-baad-839e604894c5",
   "metadata": {},
   "outputs": [
    {
     "name": "stdin",
     "output_type": "stream",
     "text": [
      " 2 13\n"
     ]
    },
    {
     "name": "stdout",
     "output_type": "stream",
     "text": [
      "2 4 5 6 7 8 9 10 11 12 "
     ]
    }
   ],
   "source": [
    "a ,b =map(int, input().split())\n",
    "i = a\n",
    "while True:\n",
    "    if i%10 ==3:\n",
    "        i += 1\n",
    "        continue\n",
    "    if i > b:\n",
    "        break\n",
    "    print(i, end=' ')\n",
    "    i+=1"
   ]
  },
  {
   "cell_type": "code",
   "execution_count": 7,
   "id": "10de9e6a-b22a-47b7-901e-5a5ff2d05451",
   "metadata": {},
   "outputs": [
    {
     "name": "stdin",
     "output_type": "stream",
     "text": [
      " 1 14\n"
     ]
    },
    {
     "name": "stdout",
     "output_type": "stream",
     "text": [
      "1 2 4 5 6 7 8 9 10 11 12 14 "
     ]
    }
   ],
   "source": [
    "start, stop = map(int, input().split())\n",
    " \n",
    "i = start\n",
    " \n",
    "while True:\n",
    "    if i % 10 == 3:\n",
    "        i += 1\n",
    "        continue\n",
    "    if i > stop:\n",
    "        break\n",
    "    print(i, end=' ')\n",
    "    i += 1"
   ]
  },
  {
   "cell_type": "code",
   "execution_count": 8,
   "id": "b5260463-8f89-445e-99a6-a4a022c7a70f",
   "metadata": {},
   "outputs": [
    {
     "name": "stdin",
     "output_type": "stream",
     "text": [
      " 5\n"
     ]
    },
    {
     "name": "stdout",
     "output_type": "stream",
     "text": [
      "great\n"
     ]
    }
   ],
   "source": [
    "#s != and ==\n",
    "a = int(input())\n",
    "if a !=5:\n",
    "    print(5)\n",
    "elif a == 5:\n",
    "    print(\"great\")\n",
    "# != 는 그 수가 아닐때  != is opposite of =="
   ]
  },
  {
   "cell_type": "code",
   "execution_count": 9,
   "id": "23c6d657-25d4-49fb-b0c9-3525eb2a5738",
   "metadata": {},
   "outputs": [
    {
     "name": "stdout",
     "output_type": "stream",
     "text": [
      "j:0 j:1 j:2 j:3 i:0//n\n",
      "j:0 j:1 j:2 j:3 i:1//n\n",
      "j:0 j:1 j:2 j:3 i:2//n\n",
      "j:0 j:1 j:2 j:3 i:3//n\n"
     ]
    }
   ],
   "source": [
    "for i in range(4):\n",
    "    for j in range(4):\n",
    "        print('j:',j, sep='' , end=' ')\n",
    "\n",
    "    print('i:', i, '//n',sep='')"
   ]
  },
  {
   "cell_type": "code",
   "execution_count": 10,
   "id": "c35c117b-12fc-49fa-ae1b-2bb189a184a4",
   "metadata": {},
   "outputs": [
    {
     "name": "stdout",
     "output_type": "stream",
     "text": [
      "**********\n",
      "**********\n",
      "**********\n",
      "**********\n",
      "**********\n"
     ]
    }
   ],
   "source": [
    "for i in range(5):\n",
    "    for j in range(10):\n",
    "        print('*', end='')\n",
    "    print()"
   ]
  },
  {
   "cell_type": "code",
   "execution_count": 11,
   "id": "7cf285ee-a6b0-4544-9061-ce46f232c447",
   "metadata": {},
   "outputs": [
    {
     "name": "stdout",
     "output_type": "stream",
     "text": [
      "*\n",
      "**\n",
      "***\n",
      "****\n",
      "*****\n",
      "******\n",
      "*******\n",
      "********\n",
      "*********\n",
      "**********\n"
     ]
    }
   ],
   "source": [
    "for i in range(10):\n",
    "    for j in range(10):\n",
    "        if j <= i:\n",
    "            print('*',end='')\n",
    "    print()"
   ]
  },
  {
   "cell_type": "code",
   "execution_count": 12,
   "id": "231b8397-b697-48da-8cc8-ddfc888a468a",
   "metadata": {},
   "outputs": [
    {
     "name": "stdout",
     "output_type": "stream",
     "text": [
      "*         \n",
      " *        \n",
      "  *       \n",
      "   *      \n",
      "    *     \n",
      "     *    \n",
      "      *   \n",
      "       *  \n",
      "        * \n",
      "         *\n"
     ]
    }
   ],
   "source": [
    "for i in range(10):\n",
    "    for j in range(10):\n",
    "        if j == i:\n",
    "            print('*',end='')\n",
    "        else:\n",
    "            print(' ',end='')\n",
    "    print()"
   ]
  },
  {
   "cell_type": "code",
   "execution_count": 13,
   "id": "828ca38d-5295-4726-a689-41ff5796032d",
   "metadata": {},
   "outputs": [
    {
     "name": "stdin",
     "output_type": "stream",
     "text": [
      " 6\n"
     ]
    },
    {
     "name": "stdout",
     "output_type": "stream",
     "text": [
      "     *\n",
      "    ***\n",
      "   *****\n",
      "  *******\n",
      " *********\n",
      "***********\n"
     ]
    }
   ],
   "source": [
    "a = int(input()) \n",
    "for i in range(1, a+1):\n",
    "    for j in range(a-i):\n",
    "        print(' ',end='')\n",
    "    for j in range(i*2-1):\n",
    "        print('*',end='')\n",
    "    print()\n",
    "    "
   ]
  },
  {
   "cell_type": "code",
   "execution_count": 14,
   "id": "bfd9fa67-c76c-4f0d-ae39-5c95f2287379",
   "metadata": {},
   "outputs": [
    {
     "name": "stdout",
     "output_type": "stream",
     "text": [
      "Fizz\n",
      "1\n",
      "2\n",
      "Fizz\n",
      "4\n",
      "bizz\n",
      "Fizz\n",
      "7\n",
      "8\n",
      "Fizz\n",
      "bizz\n",
      "11\n",
      "Fizz\n",
      "13\n",
      "14\n",
      "Fizz\n",
      "16\n",
      "17\n",
      "Fizz\n",
      "19\n",
      "bizz\n",
      "Fizz\n",
      "22\n",
      "23\n",
      "Fizz\n",
      "bizz\n",
      "26\n",
      "Fizz\n",
      "28\n",
      "29\n"
     ]
    }
   ],
   "source": [
    "for i  in range(30):\n",
    "    if i%3 ==0:\n",
    "        print(\"Fizz\")\n",
    "    elif i%5==0:\n",
    "        print(\"bizz\")\n",
    "    else:\n",
    "        print(i)"
   ]
  },
  {
   "cell_type": "code",
   "execution_count": 15,
   "id": "8e96caf7-8df5-4e80-bb22-2bb3d72a354d",
   "metadata": {},
   "outputs": [
    {
     "name": "stdout",
     "output_type": "stream",
     "text": [
      "FBFB\n",
      "Fizz\n",
      "1\n",
      "2\n",
      "Fizz\n",
      "4\n",
      "bizz\n",
      "Fizz\n",
      "7\n",
      "8\n",
      "Fizz\n",
      "bizz\n",
      "11\n",
      "Fizz\n",
      "13\n",
      "14\n",
      "FBFB\n",
      "Fizz\n",
      "16\n",
      "17\n",
      "Fizz\n",
      "19\n",
      "bizz\n",
      "Fizz\n",
      "22\n",
      "23\n",
      "Fizz\n",
      "bizz\n",
      "26\n",
      "Fizz\n",
      "28\n",
      "29\n"
     ]
    }
   ],
   "source": [
    "for i  in range(30):\n",
    "    if i%3==0 and i%5 ==0:\n",
    "        print(\"FBFB\")\n",
    "    if i%3 ==0:\n",
    "        print(\"Fizz\")\n",
    "    elif i%5==0:\n",
    "        print(\"bizz\")\n",
    "    else:\n",
    "        print(i)"
   ]
  },
  {
   "cell_type": "code",
   "execution_count": 16,
   "id": "e036d29d-e28b-4ef2-b398-c46467642650",
   "metadata": {},
   "outputs": [
    {
     "name": "stdout",
     "output_type": "stream",
     "text": [
      "test\n",
      "\n"
     ]
    }
   ],
   "source": [
    "#사소한 팁\n",
    "print('test'* True)\n",
    "print('testy'*False)"
   ]
  },
  {
   "cell_type": "code",
   "execution_count": 17,
   "id": "84a0c5ee-3c4a-463c-9312-0dcbad4dfab5",
   "metadata": {},
   "outputs": [
    {
     "name": "stdout",
     "output_type": "stream",
     "text": [
      "1\n",
      "2\n",
      "fizz\n",
      "4\n",
      "buzz\n",
      "fizz\n",
      "7\n",
      "8\n",
      "fizz\n",
      "buzz\n",
      "11\n",
      "fizz\n",
      "13\n",
      "14\n",
      "fizzbuzz\n",
      "16\n",
      "17\n",
      "fizz\n",
      "19\n"
     ]
    }
   ],
   "source": [
    " for i in range(1, 20):\n",
    "     print('fizz'*(i%3==0)+'buzz'*(i%5==0) or i)"
   ]
  },
  {
   "cell_type": "code",
   "execution_count": 18,
   "id": "0b2e6efa-a1da-4bd9-bf15-34eb6994216e",
   "metadata": {},
   "outputs": [
    {
     "name": "stdin",
     "output_type": "stream",
     "text": [
      " 1 13\n"
     ]
    },
    {
     "name": "stdout",
     "output_type": "stream",
     "text": [
      "1\n",
      "2\n",
      "3\n",
      "4\n",
      "Fizz\n",
      "6\n",
      "Buzz\n",
      "8\n",
      "9\n",
      "Fizz\n",
      "11\n",
      "12\n",
      "13\n"
     ]
    }
   ],
   "source": [
    "#test problem\n",
    "a, b = map(int,input().split())\n",
    "for i in range(a, b+1):\n",
    "    print('Fizz'*(i%5==0)+'Buzz'*(i%7==0) or i)"
   ]
  },
  {
   "cell_type": "code",
   "execution_count": 19,
   "id": "5fb6a9b4-c30f-4464-bff0-d2fc598e38af",
   "metadata": {},
   "outputs": [
    {
     "name": "stdin",
     "output_type": "stream",
     "text": [
      " 5 6\n"
     ]
    },
    {
     "name": "stdout",
     "output_type": "stream",
     "text": [
      "888888\n",
      "888888\n",
      "888888\n",
      "888888\n",
      "888888\n"
     ]
    }
   ],
   "source": [
    "a, b = map(int, input().split())\n",
    "for i in range(a):\n",
    "    for j in range(b):\n",
    "        print('8',end='')\n",
    "    print()"
   ]
  },
  {
   "cell_type": "code",
   "execution_count": 20,
   "id": "f71119e5-1d9f-4c6b-85fe-b927e735d91c",
   "metadata": {},
   "outputs": [
    {
     "name": "stdin",
     "output_type": "stream",
     "text": [
      " 5\n"
     ]
    },
    {
     "name": "stdout",
     "output_type": "stream",
     "text": [
      "    *\n",
      "   ***\n",
      "  *****\n",
      " *******\n",
      "*********\n"
     ]
    }
   ],
   "source": [
    "a = int(input()) \n",
    "for i in range(1, a+1):\n",
    "    for j in range(a-i):\n",
    "        print(' ',end='')\n",
    "    for j in range(i*2-1):\n",
    "        print('*',end='')\n",
    "    print()\n",
    "    "
   ]
  },
  {
   "cell_type": "code",
   "execution_count": 21,
   "id": "4b1123fe-66ae-49e1-8622-d9c2e4d650ec",
   "metadata": {},
   "outputs": [
    {
     "name": "stdout",
     "output_type": "stream",
     "text": [
      "[1, 2, 3, 34]\n",
      "[1, 2, 3, 34, ['*']]\n"
     ]
    }
   ],
   "source": [
    "a = [1, 2, 3]\n",
    "a.append(34)\n",
    "print(a)\n",
    "b = []\n",
    "b.append('*')\n",
    "a.append(b)\n",
    "print(a)"
   ]
  },
  {
   "cell_type": "code",
   "execution_count": 22,
   "id": "d6579130-f980-4663-b396-16fa87059e3a",
   "metadata": {},
   "outputs": [
    {
     "data": {
      "text/plain": [
       "[1, 2, 3, 100, 4, 5, 200]"
      ]
     },
     "execution_count": 22,
     "metadata": {},
     "output_type": "execute_result"
    }
   ],
   "source": [
    "a = [1,2,3,4,5]\n",
    "a.insert(3,100)\n",
    "a.insert(len(a), 200)\n",
    "a"
   ]
  },
  {
   "cell_type": "code",
   "execution_count": 23,
   "id": "3193e0e4-5c66-4101-9008-7cddca354b32",
   "metadata": {},
   "outputs": [
    {
     "name": "stdout",
     "output_type": "stream",
     "text": [
      "5\n",
      "4\n",
      "[1, 2, 3]\n"
     ]
    }
   ],
   "source": [
    "a = [1,2,3,4,5]\n",
    "print(a.pop())\n",
    "print(a.pop())\n",
    "print(a)"
   ]
  },
  {
   "cell_type": "code",
   "execution_count": 24,
   "id": "7579b81f-3bb9-405a-b4f8-dc7a2ec1c43d",
   "metadata": {},
   "outputs": [
    {
     "name": "stdin",
     "output_type": "stream",
     "text": [
      " 12 23 23\n"
     ]
    },
    {
     "name": "stdout",
     "output_type": "stream",
     "text": [
      "23\n"
     ]
    }
   ],
   "source": [
    "a, b, c, =map(int,input().split())\n",
    "if a> b:\n",
    "    if b>c:\n",
    "        print(b)\n",
    "    else:\n",
    "        if c>a:\n",
    "            print(a)\n",
    "        else:\n",
    "            print(c)\n",
    "else:\n",
    "    if a>c:\n",
    "        print(a)\n",
    "    else:\n",
    "        if b>c:\n",
    "            print(c)\n",
    "        else:\n",
    "            print(b)"
   ]
  },
  {
   "cell_type": "code",
   "execution_count": 28,
   "id": "2ee3721c-35f7-4693-8559-41b73d5a8ebc",
   "metadata": {},
   "outputs": [
    {
     "name": "stdin",
     "output_type": "stream",
     "text": [
      " 14 40\n",
      " 80\n"
     ]
    },
    {
     "name": "stdout",
     "output_type": "stream",
     "text": [
      "16 0\n"
     ]
    }
   ],
   "source": [
    "a, b =map(int, input().split())\n",
    "c = int(input())\n",
    "b = b+c\n",
    "while b >= 60:\n",
    "    b -= 60\n",
    "    a += 1\n",
    "if a >= 24:\n",
    "    a -= 24\n",
    "print(a, b)"
   ]
  },
  {
   "cell_type": "code",
   "execution_count": 4,
   "id": "f65a51fc-0968-4936-9f8f-8531dbef2f5b",
   "metadata": {},
   "outputs": [
    {
     "name": "stdout",
     "output_type": "stream",
     "text": [
      "[71, 9, 8, 6, 5, 4, 3, 2, 1, 0]\n"
     ]
    },
    {
     "data": {
      "text/plain": [
       "[0, 1, 2, 3, 4, 5, 6, 8, 9, 71]"
      ]
     },
     "execution_count": 4,
     "metadata": {},
     "output_type": "execute_result"
    }
   ],
   "source": [
    "a = [1,2,3,4,5,6,71,8,9,0]\n",
    "a.sort(reverse=True)\n",
    "print(a)\n",
    "a.sort()\n",
    "a"
   ]
  },
  {
   "cell_type": "code",
   "execution_count": 5,
   "id": "4bff2b49-5d85-46e9-bbcb-be526a616145",
   "metadata": {},
   "outputs": [
    {
     "data": {
      "text/plain": [
       "3"
      ]
     },
     "execution_count": 5,
     "metadata": {},
     "output_type": "execute_result"
    }
   ],
   "source": [
    "a =[12,34,35,36,26,27]\n",
    "a.index(36)"
   ]
  },
  {
   "cell_type": "code",
   "execution_count": 6,
   "id": "7485d0d7-024f-42b4-9f3d-1bc7c31aad96",
   "metadata": {},
   "outputs": [
    {
     "data": {
      "text/plain": [
       "2"
      ]
     },
     "execution_count": 6,
     "metadata": {},
     "output_type": "execute_result"
    }
   ],
   "source": [
    "a =[12,35,35,36,26,27]\n",
    "a.count(35)"
   ]
  },
  {
   "cell_type": "code",
   "execution_count": 7,
   "id": "9e340918-5e40-41b4-9682-aac849ba0257",
   "metadata": {},
   "outputs": [
    {
     "data": {
      "text/plain": [
       "[27, 26, 36, 35, 34, 12]"
      ]
     },
     "execution_count": 7,
     "metadata": {},
     "output_type": "execute_result"
    }
   ],
   "source": [
    "a =[12,34,35,36,26,27]\n",
    "a.reverse()\n",
    "a"
   ]
  },
  {
   "cell_type": "code",
   "execution_count": 10,
   "id": "ab11801b-f73e-459b-98db-64de003f170d",
   "metadata": {},
   "outputs": [
    {
     "name": "stdout",
     "output_type": "stream",
     "text": [
      "[] []\n"
     ]
    }
   ],
   "source": [
    "a =[12,34,35,36,26,27]\n",
    "b =[12,34,35,36,26,27]\n",
    "del a[:]\n",
    "b.clear()\n",
    "print(a,b)"
   ]
  },
  {
   "cell_type": "code",
   "execution_count": 2,
   "id": "e3044f64-eeeb-40a2-b308-090ace9ae08c",
   "metadata": {},
   "outputs": [
    {
     "name": "stdout",
     "output_type": "stream",
     "text": [
      "[1, 2, [12, 23], 3, 4, 5]\n",
      "[1, 2, [12, 23], 22, 33, 3, 4, 5]\n"
     ]
    }
   ],
   "source": [
    "a = [1,2,3,4,5]\n",
    "a.insert(2,[12,23])\n",
    "print(a)\n",
    "a[3:3] = [22,33]\n",
    "print(a)"
   ]
  },
  {
   "cell_type": "code",
   "execution_count": 6,
   "id": "53074625-c9f0-48c2-b9ea-15f9861ba073",
   "metadata": {},
   "outputs": [
    {
     "name": "stdout",
     "output_type": "stream",
     "text": [
      "[1, 2, 4, 5]\n"
     ]
    }
   ],
   "source": [
    "a = [1,2,3,4,5]\n",
    "a.remove(3)\n",
    "b = a.copy()\n",
    "print(b)\n"
   ]
  },
  {
   "cell_type": "code",
   "execution_count": 17,
   "id": "141d8850-1380-4236-9dbe-d74be0232e8c",
   "metadata": {},
   "outputs": [
    {
     "name": "stdin",
     "output_type": "stream",
     "text": [
      " 1 10\n"
     ]
    },
    {
     "name": "stdout",
     "output_type": "stream",
     "text": [
      "2, 4, 8, 16, 32, 64, 128, 256, 512, 1024"
     ]
    }
   ],
   "source": [
    "a ,b = map(int, input().split())\n",
    "i = a\n",
    "for i in range(b):\n",
    "    print(2**a,end='')\n",
    "    if a < b:\n",
    "        print(', ',end='')\n",
    "    a+=1\n",
    "    if a == b:\n",
    "        pass\n",
    "    "
   ]
  },
  {
   "cell_type": "code",
   "execution_count": null,
   "id": "6dacbbe9-5348-4f90-82c2-ac352873077b",
   "metadata": {},
   "outputs": [],
   "source": []
  }
 ],
 "metadata": {
  "kernelspec": {
   "display_name": "Python 3 (ipykernel)",
   "language": "python",
   "name": "python3"
  },
  "language_info": {
   "codemirror_mode": {
    "name": "ipython",
    "version": 3
   },
   "file_extension": ".py",
   "mimetype": "text/x-python",
   "name": "python",
   "nbconvert_exporter": "python",
   "pygments_lexer": "ipython3",
   "version": "3.11.7"
  }
 },
 "nbformat": 4,
 "nbformat_minor": 5
}
