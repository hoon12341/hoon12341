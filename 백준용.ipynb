{
 "cells": [
  {
   "cell_type": "code",
   "execution_count": 1,
   "id": "e10e72de-6abc-4e78-b7f4-3636396f0daa",
   "metadata": {},
   "outputs": [
    {
     "name": "stdin",
     "output_type": "stream",
     "text": [
      " 1 2\n"
     ]
    },
    {
     "name": "stdout",
     "output_type": "stream",
     "text": [
      "2\n"
     ]
    }
   ],
   "source": [
    "a, b =map(int, input().split())\n",
    "b-=1\n",
    "print(a*b+1)"
   ]
  },
  {
   "cell_type": "code",
   "execution_count": 12,
   "id": "f169293e-0e01-4b46-b215-e9747660e1ab",
   "metadata": {},
   "outputs": [
    {
     "name": "stdin",
     "output_type": "stream",
     "text": [
      " 1\n",
      " 3 # %\n"
     ]
    },
    {
     "name": "stdout",
     "output_type": "stream",
     "text": [
      "1.00\n"
     ]
    }
   ],
   "source": [
    "n = int(input())\n",
    "\n",
    "for _ in range(n):\n",
    "    a = input().split()\n",
    "    result = float(a[0])\n",
    "\n",
    "    for i in range(1, len(a)):\n",
    "        if a[i] == '@':\n",
    "            result *= 3\n",
    "        elif a[i] == '%':\n",
    "            result += 5\n",
    "        elif a[i] == '#':\n",
    "            result -= 7\n",
    "\n",
    "    print(\"%.2f\" % result)"
   ]
  },
  {
   "cell_type": "code",
   "execution_count": null,
   "id": "3752533e-379e-475f-936b-21c78f440859",
   "metadata": {},
   "outputs": [],
   "source": [
    "#anwser?\n",
    "n = int(input())\n",
    "for _ in range (0, n):\n",
    "    A = list(map(str ,input().split()))\n",
    "    result = float(A[0])\n",
    "    for i in range (1, len(A)):\n",
    "        if A[i] == '@': \n",
    "            result *= 3\n",
    "        elif A[i] == '%':\n",
    "            result += 5\n",
    "        elif A[i] == '#'\n",
    "        : result -= 7\n",
    "    print(\"{:.2f}\".format(result))"
   ]
  },
  {
   "cell_type": "code",
   "execution_count": null,
   "id": "33680934-a709-4b35-aea0-6e4779c53599",
   "metadata": {},
   "outputs": [],
   "source": [
    "i = 0\n",
    "for i in range(5):\n",
    "    a, b = map(int,input().split())\n",
    "    if a+b == 0:\n",
    "        break\n",
    "    print(a+b)"
   ]
  },
  {
   "cell_type": "code",
   "execution_count": null,
   "id": "59d2497f-fa7a-4629-b75c-4fe72bd49fe8",
   "metadata": {},
   "outputs": [],
   "source": [
    "a, b = input().spllit()\n",
    "if b == None:\n",
    "    pass\n",
    "    for i in range(1,len[b]*3): \n",
    "        print(b[0])"
   ]
  },
  {
   "cell_type": "raw",
   "id": "18c86a77-de9d-4b70-88a6-42bca3b64fb1",
   "metadata": {},
   "source": [
    "S = \"Hello\"\n",
    "for char in S:\n",
    "    print(char)"
   ]
  },
  {
   "cell_type": "code",
   "execution_count": 3,
   "id": "cc082cfa-0abe-4574-8306-8066b3d5568e",
   "metadata": {},
   "outputs": [
    {
     "name": "stdin",
     "output_type": "stream",
     "text": [
      " 40\n"
     ]
    },
    {
     "name": "stdout",
     "output_type": "stream",
     "text": [
      "2\n",
      "2\n",
      "2\n",
      "5\n"
     ]
    }
   ],
   "source": [
    "a = []\n",
    "n = int(input())\n",
    "b = 2\n",
    "while n>1:\n",
    "    while n % b == 0:\n",
    "        a.append(b)\n",
    "        n //= b\n",
    "    b+=1\n",
    "for num in a:\n",
    "    print(num)"
   ]
  },
  {
   "cell_type": "code",
   "execution_count": 25,
   "id": "e778db01-00ce-40c0-82d4-05aaf6426bfc",
   "metadata": {},
   "outputs": [
    {
     "name": "stdin",
     "output_type": "stream",
     "text": [
      " 4\n",
      " 5 6\n",
      " 6 6\n",
      " 4 3\n",
      " 5 2\n",
      " \n"
     ]
    },
    {
     "name": "stdout",
     "output_type": "stream",
     "text": [
      "94\n",
      "91\n"
     ]
    }
   ],
   "source": [
    "#주사위게임 \n",
    "a = 100\n",
    "b = 100\n",
    "while True:\n",
    "    n = input()\n",
    "\n",
    "    if not n:\n",
    "        print(a,b,sep='\\n')\n",
    "        break\n",
    "    n = n.split()\n",
    "    if len(n) != 2:\n",
    "        continue\n",
    "    a_, b_ = n\n",
    "    a_ = int(a_)\n",
    "    b_ = int(b_)\n",
    "\n",
    "    if a_ > b_:\n",
    "        b = b - a_\n",
    "    elif a_ < b_:\n",
    "        a = a - b_\n",
    "    else:\n",
    "        pass\n"
   ]
  },
  {
   "cell_type": "code",
   "execution_count": 14,
   "id": "e5a21c31-86c9-45f7-8ab7-1271c2e05531",
   "metadata": {},
   "outputs": [
    {
     "name": "stdin",
     "output_type": "stream",
     "text": [
      " s\n"
     ]
    },
    {
     "name": "stdout",
     "output_type": "stream",
     "text": [
      "shit invalid literal for int() with base 10: 's'\n"
     ]
    }
   ],
   "source": [
    "try:\n",
    "    a = int(input())\n",
    "    print(a*2)\n",
    "except ValueError as a:\n",
    "    print(\"shit\",a)\n"
   ]
  },
  {
   "cell_type": "code",
   "execution_count": null,
   "id": "442b8087-ed69-49df-b5bf-04d50d02b9a0",
   "metadata": {},
   "outputs": [],
   "source": [
    "while True:\n",
    "    a,b =map(int,input().split())\n",
    "    if a ==0 and b ==0:\n",
    "        break\n",
    "    else:\n",
    "        if a>b:\n",
    "            if a%b ==0:\n",
    "                print(\"multiple\")\n",
    "            else:\n",
    "                print(\"neither\")\n",
    "        else:\n",
    "            if b%a ==0:\n",
    "                print(\"multiple\")\n",
    "            else:\n",
    "                print(\"neither\")"
   ]
  }
 ],
 "metadata": {
  "kernelspec": {
   "display_name": "Python 3 (ipykernel)",
   "language": "python",
   "name": "python3"
  },
  "language_info": {
   "codemirror_mode": {
    "name": "ipython",
    "version": 3
   },
   "file_extension": ".py",
   "mimetype": "text/x-python",
   "name": "python",
   "nbconvert_exporter": "python",
   "pygments_lexer": "ipython3",
   "version": "3.11.7"
  }
 },
 "nbformat": 4,
 "nbformat_minor": 5
}
